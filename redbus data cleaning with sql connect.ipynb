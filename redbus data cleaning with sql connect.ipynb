{
 "cells": [
  {
   "cell_type": "code",
   "execution_count": 5,
   "metadata": {},
   "outputs": [],
   "source": [
    "import pandas as pd\n",
    "import mysql.connector\n",
    "import numpy as np"
   ]
  },
  {
   "cell_type": "code",
   "execution_count": 12,
   "metadata": {},
   "outputs": [],
   "source": [
    "df_buses_1 = pd.read_csv(r\"C:\\Users\\navee\\OneDrive\\Desktop\\REDBUS_PROJECT\\df_buses_1.csv\")\n",
    "df_buses_2 = pd.read_csv(r\"C:\\Users\\navee\\OneDrive\\Desktop\\REDBUS_PROJECT\\df_buses_2.csv\")\n",
    "df_buses_3 = pd.read_csv(r\"C:\\Users\\navee\\OneDrive\\Desktop\\REDBUS_PROJECT\\df_buses_3.csv\")\n",
    "df_buses_4 = pd.read_csv(r\"C:\\Users\\navee\\OneDrive\\Desktop\\REDBUS_PROJECT\\df_buses_4.csv\")\n",
    "df_buses_5 = pd.read_csv(r\"C:\\Users\\navee\\OneDrive\\Desktop\\REDBUS_PROJECT\\df_buses_5.csv\")\n",
    "df_buses_6 = pd.read_csv(r\"C:\\Users\\navee\\OneDrive\\Desktop\\REDBUS_PROJECT\\df_buses_6.csv\")\n",
    "df_buses_7 = pd.read_csv(r\"C:\\Users\\navee\\OneDrive\\Desktop\\REDBUS_PROJECT\\df_buses_7.csv\")\n",
    "df_buses_8 = pd.read_csv(r\"C:\\Users\\navee\\OneDrive\\Desktop\\REDBUS_PROJECT\\df_buses_8.csv\")\n",
    "df_buses_9 = pd.read_csv(r\"C:\\Users\\navee\\OneDrive\\Desktop\\REDBUS_PROJECT\\df_buses_9.csv\")\n",
    "df_buses_10 = pd.read_csv(r\"C:\\Users\\navee\\OneDrive\\Desktop\\REDBUS_PROJECT\\df_buses_10.csv\")\n",
    "\n",
    "final_df = pd.concat([df_buses_1,df_buses_2,df_buses_3,df_buses_4,df_buses_5,df_buses_6,df_buses_7,df_buses_8,df_buses_9,df_buses_10],ignore_index=True)"
   ]
  },
  {
   "cell_type": "code",
   "execution_count": null,
   "metadata": {},
   "outputs": [],
   "source": [
    "final_df"
   ]
  },
  {
   "cell_type": "code",
   "execution_count": null,
   "metadata": {},
   "outputs": [],
   "source": [
    "final_df.info()"
   ]
  },
  {
   "cell_type": "code",
   "execution_count": 15,
   "metadata": {},
   "outputs": [],
   "source": [
    "final_df[\"Price\"] = final_df[\"Price\"].fillna(final_df[\"price\"])\n",
    "final_df = final_df.drop(columns=[\"price\"])"
   ]
  },
  {
   "cell_type": "code",
   "execution_count": 18,
   "metadata": {},
   "outputs": [],
   "source": [
    "final_df[\"Price\"] = final_df[\"Price\"].astype(str).str.replace(\"INR\", \"\").str.strip()\n",
    "final_df[\"Price\"] = final_df[\"Price\"].astype(float)\n",
    "final_df[\"Price\"] = final_df[\"Price\"].fillna(0)\n"
   ]
  },
  {
   "cell_type": "code",
   "execution_count": null,
   "metadata": {},
   "outputs": [],
   "source": [
    "print(final_df[\"Price\"].dtype)\n",
    "print(final_df[\"Price\"])"
   ]
  },
  {
   "cell_type": "code",
   "execution_count": 21,
   "metadata": {},
   "outputs": [],
   "source": [
    "final_df[\"Ratings\"] = final_df[\"Ratings\"].astype(str)\n",
    "final_df[\"Ratings\"] = final_df[\"Ratings\"].str.replace(\"New\", \"\").str.strip()\n",
    "final_df[\"Ratings\"] = final_df[\"Ratings\"].str.split().str[0]\n",
    "final_df[\"Ratings\"] = pd.to_numeric(final_df[\"Ratings\"], errors='coerce')"
   ]
  },
  {
   "cell_type": "code",
   "execution_count": null,
   "metadata": {},
   "outputs": [],
   "source": [
    "final_df.info()"
   ]
  },
  {
   "cell_type": "code",
   "execution_count": 23,
   "metadata": {},
   "outputs": [],
   "source": [
    "final_df = final_df[final_df[\"Price\"] <=7000]"
   ]
  },
  {
   "cell_type": "code",
   "execution_count": 24,
   "metadata": {},
   "outputs": [],
   "source": [
    "final_df = final_df.replace({np.nan:None})"
   ]
  },
  {
   "cell_type": "code",
   "execution_count": 25,
   "metadata": {},
   "outputs": [],
   "source": [
    "final_df['Seats_Available'] = final_df['Seats_Available'].fillna(0)"
   ]
  },
  {
   "cell_type": "code",
   "execution_count": null,
   "metadata": {},
   "outputs": [],
   "source": [
    "print(final_df['Seats_Available'].isnull().sum()) \n",
    "final_df['Seats_Available'] = final_df['Seats_Available'].fillna(0)"
   ]
  },
  {
   "cell_type": "code",
   "execution_count": null,
   "metadata": {},
   "outputs": [],
   "source": [
    "print(final_df['Bus_name'].isnull().sum()) \n",
    "final_df = final_df.dropna(subset=['Bus_name'])\n",
    "final_df['Bus_name'] = final_df['Bus_name'].fillna('Unknown Bus')"
   ]
  },
  {
   "cell_type": "code",
   "execution_count": 28,
   "metadata": {},
   "outputs": [],
   "source": [
    "final_df['Bus_type'] = final_df['Bus_type'].fillna('Unknown')"
   ]
  },
  {
   "cell_type": "code",
   "execution_count": 67,
   "metadata": {},
   "outputs": [],
   "source": [
    "path =r\"C:\\Users\\navee\\OneDrive\\Desktop\\REDBUS_PROJECT\\final_busdetails_df.csv\"\n",
    "final_df.to_csv(path,index=False)"
   ]
  },
  {
   "cell_type": "markdown",
   "metadata": {},
   "source": [
    "CREATE A MYSQL DATABASE"
   ]
  },
  {
   "cell_type": "code",
   "execution_count": null,
   "metadata": {},
   "outputs": [],
   "source": [
    "import mysql.connector\n",
    "conn = mysql.connector.connect(\n",
    "    host=\"localhost\", \n",
    "    user=\"root\", \n",
    "    password=\"20022004@Yuva\"\n",
    ")\n",
    "\n",
    "my_cursor = conn.cursor()\n",
    "my_cursor.execute(\"CREATE DATABASE IF NOT EXISTS RED_BUS_DATA\")\n",
    "\n",
    "my_cursor.close()\n",
    "conn.close()\n",
    "\n",
    "conn = mysql.connector.connect(\n",
    "    host=\"localhost\", \n",
    "    user=\"root\", \n",
    "    password=\"20022004@Yuva\", \n",
    "    database=\"RED_BUS_DATA\"\n",
    ")\n",
    "\n",
    "my_cursor = conn.cursor()\n",
    "\n",
    "print(\"Connected to RED_BUS_DETAILS database successfully!\")\n"
   ]
  },
  {
   "cell_type": "code",
   "execution_count": null,
   "metadata": {},
   "outputs": [],
   "source": [
    "my_cursor.execute(\"\"\"\n",
    "CREATE TABLE IF NOT EXISTS bus_details (\n",
    "    ID INT AUTO_INCREMENT PRIMARY KEY,\n",
    "    Bus_name VARCHAR(255) NOT NULL,\n",
    "    Bus_type VARCHAR(255) NOT NULL,\n",
    "    Start_time VARCHAR(255) NOT NULL,\n",
    "    End_time VARCHAR(255) NOT NULL,\n",
    "    Total_duration VARCHAR(255) NOT NULL,\n",
    "    Price FLOAT NULL,\n",
    "    Seats_Available VARCHAR(255) NOT NULL,\n",
    "    Ratings FLOAT NULL,\n",
    "    Route_link VARCHAR(255) NULL,\n",
    "    Route_name VARCHAR(255) NULL\n",
    ")\n",
    "\"\"\")\n",
    "print(\"Table Created Succesfully\")\n"
   ]
  },
  {
   "cell_type": "code",
   "execution_count": 73,
   "metadata": {},
   "outputs": [],
   "source": [
    "insert_query = \"\"\"\n",
    "    INSERT INTO bus_details (Bus_name, Bus_type, Start_time, End_time, Total_duration, Seats_Available, Ratings, Route_link, Route_name, Price)\n",
    "    VALUES (%s, %s, %s, %s, %s, %s, %s, %s, %s, %s)\n",
    "\"\"\"\n"
   ]
  },
  {
   "cell_type": "code",
   "execution_count": null,
   "metadata": {},
   "outputs": [],
   "source": [
    "final_df['Bus_name'] = final_df['Bus_name'].fillna('Unknown Bus')\n",
    "data = final_df.values.tolist()\n",
    "my_cursor.executemany(insert_query, data)\n",
    "conn.commit()\n",
    "print(\"Values inserted successfully!\")\n"
   ]
  },
  {
   "cell_type": "code",
   "execution_count": null,
   "metadata": {},
   "outputs": [],
   "source": [
    "insert_query = \"\"\"INSERT INTO bus_details (\n",
    "                    Bus_name,\n",
    "                    Bus_type,\n",
    "                    Start_time,\n",
    "                    End_time,\n",
    "                    Total_duration,\n",
    "                    Seats_Available,\n",
    "                    Ratings,\n",
    "                    Route_link,\n",
    "                    Route_name,\n",
    "                    Price\n",
    "                ) VALUES (%s, %s, %s, %s, %s, %s, %s, %s, %s, %s)\"\"\"\n",
    "\n",
    "data = final_df.values.tolist()\n",
    "\n",
    "my_cursor.executemany(insert_query, data)\n",
    "\n",
    "conn.commit()\n",
    "\n",
    "print(\"Values inserted successfully!\")\n"
   ]
  },
  {
   "cell_type": "code",
   "execution_count": null,
   "metadata": {},
   "outputs": [],
   "source": [
    "import mysql.connector\n",
    "import pandas as pd\n",
    "\n",
    "conn = mysql.connector.connect(\n",
    "    host=\"localhost\",  \n",
    "    user=\"root\",\n",
    "    password=\"20022004@Yuva\",\n",
    "    database=\"red_bus_data\"\n",
    ")\n",
    "\n",
    "query = \"SELECT * FROM bus_details;\"\n",
    "\n",
    "df = pd.read_sql(query, conn)\n",
    "\n",
    "conn.close()\n",
    "\n",
    "print(df)\n"
   ]
  },
  {
   "cell_type": "code",
   "execution_count": 3,
   "metadata": {},
   "outputs": [],
   "source": [
    "df.to_csv('C:/Users/navee/OneDrive/Desktop/REDBUS_PROJECT/redbus_data.csv', index=False)"
   ]
  }
 ],
 "metadata": {
  "kernelspec": {
   "display_name": "env",
   "language": "python",
   "name": "python3"
  },
  "language_info": {
   "codemirror_mode": {
    "name": "ipython",
    "version": 3
   },
   "file_extension": ".py",
   "mimetype": "text/x-python",
   "name": "python",
   "nbconvert_exporter": "python",
   "pygments_lexer": "ipython3",
   "version": "3.12.4"
  }
 },
 "nbformat": 4,
 "nbformat_minor": 2
}
